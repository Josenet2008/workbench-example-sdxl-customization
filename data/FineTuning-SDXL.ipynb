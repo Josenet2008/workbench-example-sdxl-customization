version https://git-lfs.github.com/spec/v1
oid sha256:b61b820674ec963af7b4f7572d24f844163f561c91a39cbed251a56b38607c3b
size 11220532
